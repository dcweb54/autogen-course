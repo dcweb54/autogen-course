{
 "cells": [
  {
   "cell_type": "code",
   "execution_count": 2,
   "id": "5684213a",
   "metadata": {},
   "outputs": [],
   "source": [
    "import spacy"
   ]
  },
  {
   "cell_type": "code",
   "execution_count": 20,
   "id": "a4f0eb95",
   "metadata": {},
   "outputs": [
    {
     "name": "stdout",
     "output_type": "stream",
     "text": [
      "Alex had always dreamed of reaching the top of Eagle's Peak, a mountain so tall many said it can't be climbed without years of training. But Alex wasn't an expert. Just a person with a dream and a backpack full of hope. The first steps were easy. The path was clear. But soon the trail grew steeper. Rocks blocked the way. The wind howled. Doubt crept in.\n"
     ]
    }
   ],
   "source": [
    "script_text = \"Alex had always dreamed of reaching the top of Eagle's Peak, a mountain so tall many said it can't be climbed without years of training. But Alex wasn't an expert. Just a person with a dream and a backpack full of hope. The first steps were easy. The path was clear. But soon the trail grew steeper. Rocks blocked the way. The wind howled. Doubt crept in.\"\n",
    "\n",
    "print(script_text)"
   ]
  },
  {
   "cell_type": "code",
   "execution_count": 21,
   "id": "3ea27888",
   "metadata": {},
   "outputs": [],
   "source": [
    "nlp= spacy.load('en_core_web_sm')"
   ]
  },
  {
   "cell_type": "code",
   "execution_count": 23,
   "id": "6444f80a",
   "metadata": {},
   "outputs": [],
   "source": [
    "# Process it with spaCy\n",
    "doc = nlp(script_text)"
   ]
  },
  {
   "cell_type": "code",
   "execution_count": 24,
   "id": "c9b23826-2063-4635-b74c-42d937c219fe",
   "metadata": {},
   "outputs": [
    {
     "name": "stdout",
     "output_type": "stream",
     "text": [
      "Processed Tokens: ['Alex', 'dream', 'reach', 'Eagle', 'Peak', 'mountain', 'tall', 'say', 'climb', 'year', 'training', 'Alex', 'expert', 'person', 'dream', 'backpack', 'hope', 'step', 'easy', 'path', 'clear', 'soon', 'trail', 'grow', 'steep', 'rock', 'block', 'way', 'wind', 'howl', 'Doubt', 'creep']\n"
     ]
    }
   ],
   "source": [
    "# Tokenization, stop word removal, and lemmatization\n",
    "tokens = [token.lemma_ for token in doc if not token.is_stop and not token.is_punct]\n",
    "print(\"Processed Tokens:\", tokens)"
   ]
  },
  {
   "cell_type": "code",
   "execution_count": 28,
   "id": "8c8eeac4-c45e-49e5-aa2e-8b37abbe6c0a",
   "metadata": {},
   "outputs": [
    {
     "name": "stdout",
     "output_type": "stream",
     "text": [
      "- Alex had always dreamed of reaching the top of Eagle's Peak, a mountain so tall many said it can't be climbed without years of training.\n",
      "- But Alex wasn't an expert.\n",
      "- Just a person with a dream and a backpack full of hope.\n",
      "- The first steps were easy.\n",
      "- The path was clear.\n",
      "- But soon the trail grew steeper.\n",
      "- Rocks blocked the way.\n",
      "- The wind howled.\n",
      "- Doubt crept in.\n"
     ]
    }
   ],
   "source": [
    "# Iterate over detected sentences\n",
    "for sent in doc.sents:\n",
    "    print(\"-\",sent.text)"
   ]
  },
  {
   "cell_type": "code",
   "execution_count": 29,
   "id": "58093bfd-b12f-4a9c-84ad-17cfd6ad4f2a",
   "metadata": {},
   "outputs": [
    {
     "name": "stdout",
     "output_type": "stream",
     "text": [
      "Alex → PERSON\n",
      "Eagle → ORG\n",
      "years → DATE\n",
      "Alex → PERSON\n",
      "first → ORDINAL\n"
     ]
    }
   ],
   "source": [
    "# Print named entities with labels\n",
    "for ent in doc.ents:\n",
    "    print(ent.text, \"→\", ent.label_)"
   ]
  },
  {
   "cell_type": "code",
   "execution_count": 30,
   "id": "088f3955-9d74-43c9-9eec-d7b366e23b75",
   "metadata": {},
   "outputs": [
    {
     "name": "stdout",
     "output_type": "stream",
     "text": [
      "Alex       PROPN      NNP    noun, proper singular\n",
      "had        AUX        VBD    verb, past tense\n",
      "always     ADV        RB     adverb\n",
      "dreamed    VERB       VBN    verb, past participle\n",
      "of         ADP        IN     conjunction, subordinating or preposition\n",
      "reaching   VERB       VBG    verb, gerund or present participle\n",
      "the        DET        DT     determiner\n",
      "top        NOUN       NN     noun, singular or mass\n",
      "of         ADP        IN     conjunction, subordinating or preposition\n",
      "Eagle      PROPN      NNP    noun, proper singular\n",
      "'s         PART       POS    possessive ending\n",
      "Peak       PROPN      NNP    noun, proper singular\n",
      ",          PUNCT      ,      punctuation mark, comma\n",
      "a          DET        DT     determiner\n",
      "mountain   NOUN       NN     noun, singular or mass\n",
      "so         ADV        RB     adverb\n",
      "tall       ADJ        JJ     adjective (English), other noun-modifier (Chinese)\n",
      "many       ADJ        JJ     adjective (English), other noun-modifier (Chinese)\n",
      "said       VERB       VBD    verb, past tense\n",
      "it         PRON       PRP    pronoun, personal\n",
      "ca         AUX        MD     verb, modal auxiliary\n",
      "n't        PART       RB     adverb\n",
      "be         AUX        VB     verb, base form\n",
      "climbed    VERB       VBN    verb, past participle\n",
      "without    ADP        IN     conjunction, subordinating or preposition\n",
      "years      NOUN       NNS    noun, plural\n",
      "of         ADP        IN     conjunction, subordinating or preposition\n",
      "training   NOUN       NN     noun, singular or mass\n",
      ".          PUNCT      .      punctuation mark, sentence closer\n",
      "But        CCONJ      CC     conjunction, coordinating\n",
      "Alex       PROPN      NNP    noun, proper singular\n",
      "was        AUX        VBD    verb, past tense\n",
      "n't        PART       RB     adverb\n",
      "an         DET        DT     determiner\n",
      "expert     NOUN       NN     noun, singular or mass\n",
      ".          PUNCT      .      punctuation mark, sentence closer\n",
      "Just       ADV        RB     adverb\n",
      "a          DET        DT     determiner\n",
      "person     NOUN       NN     noun, singular or mass\n",
      "with       ADP        IN     conjunction, subordinating or preposition\n",
      "a          DET        DT     determiner\n",
      "dream      NOUN       NN     noun, singular or mass\n",
      "and        CCONJ      CC     conjunction, coordinating\n",
      "a          DET        DT     determiner\n",
      "backpack   NOUN       NN     noun, singular or mass\n",
      "full       ADJ        JJ     adjective (English), other noun-modifier (Chinese)\n",
      "of         ADP        IN     conjunction, subordinating or preposition\n",
      "hope       NOUN       NN     noun, singular or mass\n",
      ".          PUNCT      .      punctuation mark, sentence closer\n",
      "The        DET        DT     determiner\n",
      "first      ADJ        JJ     adjective (English), other noun-modifier (Chinese)\n",
      "steps      NOUN       NNS    noun, plural\n",
      "were       AUX        VBD    verb, past tense\n",
      "easy       ADJ        JJ     adjective (English), other noun-modifier (Chinese)\n",
      ".          PUNCT      .      punctuation mark, sentence closer\n",
      "The        DET        DT     determiner\n",
      "path       NOUN       NN     noun, singular or mass\n",
      "was        AUX        VBD    verb, past tense\n",
      "clear      ADJ        JJ     adjective (English), other noun-modifier (Chinese)\n",
      ".          PUNCT      .      punctuation mark, sentence closer\n",
      "But        CCONJ      CC     conjunction, coordinating\n",
      "soon       ADV        RB     adverb\n",
      "the        DET        DT     determiner\n",
      "trail      NOUN       NN     noun, singular or mass\n",
      "grew       VERB       VBD    verb, past tense\n",
      "steeper    ADJ        JJR    adjective, comparative\n",
      ".          PUNCT      .      punctuation mark, sentence closer\n",
      "Rocks      NOUN       NNS    noun, plural\n",
      "blocked    VERB       VBD    verb, past tense\n",
      "the        DET        DT     determiner\n",
      "way        NOUN       NN     noun, singular or mass\n",
      ".          PUNCT      .      punctuation mark, sentence closer\n",
      "The        DET        DT     determiner\n",
      "wind       NOUN       NN     noun, singular or mass\n",
      "howled     VERB       VBD    verb, past tense\n",
      ".          PUNCT      .      punctuation mark, sentence closer\n",
      "Doubt      PROPN      NNP    noun, proper singular\n",
      "crept      VERB       VBD    verb, past tense\n",
      "in         ADP        RP     adverb, particle\n",
      ".          PUNCT      .      punctuation mark, sentence closer\n"
     ]
    }
   ],
   "source": [
    "# Print tokens with POS and fine-grained tags\n",
    "for token in doc:\n",
    "    print(f\"{token.text:10} {token.pos_:10} {token.tag_:6} {spacy.explain(token.tag_)}\")"
   ]
  },
  {
   "cell_type": "code",
   "execution_count": 31,
   "id": "8ec64568-92d6-4f7f-bccf-577db4849c58",
   "metadata": {},
   "outputs": [
    {
     "name": "stdout",
     "output_type": "stream",
     "text": [
      "Alex       nsubj           → Head: dreamed\n",
      "had        aux             → Head: dreamed\n",
      "always     advmod          → Head: dreamed\n",
      "dreamed    ROOT            → Head: dreamed\n",
      "of         prep            → Head: dreamed\n",
      "reaching   pcomp           → Head: of\n",
      "the        det             → Head: top\n",
      "top        dobj            → Head: reaching\n",
      "of         prep            → Head: top\n",
      "Eagle      poss            → Head: Peak\n",
      "'s         case            → Head: Eagle\n",
      "Peak       pobj            → Head: of\n",
      ",          punct           → Head: Peak\n",
      "a          det             → Head: mountain\n",
      "mountain   nsubj           → Head: said\n",
      "so         advmod          → Head: tall\n",
      "tall       amod            → Head: many\n",
      "many       nsubj           → Head: said\n",
      "said       conj            → Head: dreamed\n",
      "it         nsubjpass       → Head: climbed\n",
      "ca         aux             → Head: climbed\n",
      "n't        neg             → Head: climbed\n",
      "be         auxpass         → Head: climbed\n",
      "climbed    ccomp           → Head: said\n",
      "without    prep            → Head: climbed\n",
      "years      pobj            → Head: without\n",
      "of         prep            → Head: years\n",
      "training   pobj            → Head: of\n",
      ".          punct           → Head: dreamed\n",
      "But        cc              → Head: was\n",
      "Alex       nsubj           → Head: was\n",
      "was        ROOT            → Head: was\n",
      "n't        neg             → Head: was\n",
      "an         det             → Head: expert\n",
      "expert     attr            → Head: was\n",
      ".          punct           → Head: was\n",
      "Just       advmod          → Head: person\n",
      "a          det             → Head: person\n",
      "person     ROOT            → Head: person\n",
      "with       prep            → Head: person\n",
      "a          det             → Head: dream\n",
      "dream      pobj            → Head: with\n",
      "and        cc              → Head: dream\n",
      "a          det             → Head: backpack\n",
      "backpack   conj            → Head: dream\n",
      "full       amod            → Head: backpack\n",
      "of         prep            → Head: full\n",
      "hope       pobj            → Head: of\n",
      ".          punct           → Head: person\n",
      "The        det             → Head: steps\n",
      "first      amod            → Head: steps\n",
      "steps      nsubj           → Head: were\n",
      "were       ROOT            → Head: were\n",
      "easy       acomp           → Head: were\n",
      ".          punct           → Head: were\n",
      "The        det             → Head: path\n",
      "path       nsubj           → Head: was\n",
      "was        ROOT            → Head: was\n",
      "clear      acomp           → Head: was\n",
      ".          punct           → Head: was\n",
      "But        cc              → Head: grew\n",
      "soon       advmod          → Head: grew\n",
      "the        det             → Head: trail\n",
      "trail      nsubj           → Head: grew\n",
      "grew       ROOT            → Head: grew\n",
      "steeper    acomp           → Head: grew\n",
      ".          punct           → Head: grew\n",
      "Rocks      nsubj           → Head: blocked\n",
      "blocked    ROOT            → Head: blocked\n",
      "the        det             → Head: way\n",
      "way        dobj            → Head: blocked\n",
      ".          punct           → Head: blocked\n",
      "The        det             → Head: wind\n",
      "wind       nsubj           → Head: howled\n",
      "howled     ROOT            → Head: howled\n",
      ".          punct           → Head: howled\n",
      "Doubt      nsubj           → Head: crept\n",
      "crept      ROOT            → Head: crept\n",
      "in         advmod          → Head: crept\n",
      ".          punct           → Head: crept\n"
     ]
    }
   ],
   "source": [
    "# Print token dependencies\n",
    "for token in doc:\n",
    "    print(f\"{token.text:10} {token.dep_:15} → Head: {token.head.text}\")"
   ]
  },
  {
   "cell_type": "code",
   "execution_count": 40,
   "id": "da338c24-387f-43af-b09f-ad938a0f757e",
   "metadata": {},
   "outputs": [],
   "source": [
    "# Extract sentences and entities/actions\n",
    "structured_script = []\n",
    "\n",
    "for sent in doc.sents:\n",
    "    entry = {\n",
    "        \"sentence\": sent.text,\n",
    "        \"characters\": [ent.text for ent in sent.ents if ent.label_ == \"PERSON\"],\n",
    "        \"locations\": [ent.text for ent in sent.ents if ent.label_ in [\"GPE\", \"LOC\", \"FAC\"]],\n",
    "        \"actions\": [token.lemma_ for token in sent if token.pos_ == \"VERB\"],\n",
    "        \"nouns\": [token.lemma_ for token in sent if token.pos_ == \"NOUN\"],\n",
    "        \"raw\": sent.text\n",
    "    }\n",
    "    structured_script.append(entry)\n",
    "\n"
   ]
  },
  {
   "cell_type": "code",
   "execution_count": 45,
   "id": "59f02726-9665-4d4c-be29-9334bd4dae36",
   "metadata": {},
   "outputs": [],
   "source": [
    "structured = []\n",
    "\n",
    "for sent in doc.sents:\n",
    "    structured.append({\n",
    "        \"sentence\": sent.text,\n",
    "        \"characters\": [ent.text for ent in sent.ents if ent.label_ == \"PERSON\"],\n",
    "        \"actions\": [token.lemma_ for token in sent if token.pos_ == \"VERB\"],\n",
    "        \"objects\": [token.lemma_ for token in sent if token.pos_ == \"NOUN\"]\n",
    "    })"
   ]
  },
  {
   "cell_type": "code",
   "execution_count": 46,
   "id": "9ebccd46-f958-4cb2-bdc8-c2c91aa553dc",
   "metadata": {},
   "outputs": [
    {
     "data": {
      "text/plain": [
       "[{'sentence': \"Alex had always dreamed of reaching the top of Eagle's Peak, a mountain so tall many said it can't be climbed without years of training.\",\n",
       "  'characters': ['Alex'],\n",
       "  'actions': ['dream', 'reach', 'say', 'climb'],\n",
       "  'objects': ['top', 'mountain', 'year', 'training']},\n",
       " {'sentence': \"But Alex wasn't an expert.\",\n",
       "  'characters': ['Alex'],\n",
       "  'actions': [],\n",
       "  'objects': ['expert']},\n",
       " {'sentence': 'Just a person with a dream and a backpack full of hope.',\n",
       "  'characters': [],\n",
       "  'actions': [],\n",
       "  'objects': ['person', 'dream', 'backpack', 'hope']},\n",
       " {'sentence': 'The first steps were easy.',\n",
       "  'characters': [],\n",
       "  'actions': [],\n",
       "  'objects': ['step']},\n",
       " {'sentence': 'The path was clear.',\n",
       "  'characters': [],\n",
       "  'actions': [],\n",
       "  'objects': ['path']},\n",
       " {'sentence': 'But soon the trail grew steeper.',\n",
       "  'characters': [],\n",
       "  'actions': ['grow'],\n",
       "  'objects': ['trail']},\n",
       " {'sentence': 'Rocks blocked the way.',\n",
       "  'characters': [],\n",
       "  'actions': ['block'],\n",
       "  'objects': ['rock', 'way']},\n",
       " {'sentence': 'The wind howled.',\n",
       "  'characters': [],\n",
       "  'actions': ['howl'],\n",
       "  'objects': ['wind']},\n",
       " {'sentence': 'Doubt crept in.',\n",
       "  'characters': [],\n",
       "  'actions': ['creep'],\n",
       "  'objects': []}]"
      ]
     },
     "execution_count": 46,
     "metadata": {},
     "output_type": "execute_result"
    }
   ],
   "source": [
    "structured"
   ]
  },
  {
   "cell_type": "code",
   "execution_count": 43,
   "id": "26930945-99a8-45ba-9c34-8f56547ccaf7",
   "metadata": {},
   "outputs": [],
   "source": [
    "import json"
   ]
  },
  {
   "cell_type": "code",
   "execution_count": 44,
   "id": "f65c57a1-6532-4451-959b-b18f989392ca",
   "metadata": {},
   "outputs": [],
   "source": [
    "file_path = \"output.json\"\n",
    "with open(file_path, 'w') as json_file:\n",
    "    json.dump(structured_script, json_file, indent=4)"
   ]
  },
  {
   "cell_type": "code",
   "execution_count": null,
   "id": "171d25bb-da98-4852-9e0f-425472dbd182",
   "metadata": {},
   "outputs": [],
   "source": []
  }
 ],
 "metadata": {
  "kernelspec": {
   "display_name": "autogen-course",
   "language": "python",
   "name": "python3"
  },
  "language_info": {
   "codemirror_mode": {
    "name": "ipython",
    "version": 3
   },
   "file_extension": ".py",
   "mimetype": "text/x-python",
   "name": "python",
   "nbconvert_exporter": "python",
   "pygments_lexer": "ipython3",
   "version": "3.12.11"
  }
 },
 "nbformat": 4,
 "nbformat_minor": 5
}
