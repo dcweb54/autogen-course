{
 "cells": [
  {
   "cell_type": "markdown",
   "id": "7b68377b-dd9f-4a7c-a7b5-7cb9cbb0b490",
   "metadata": {},
   "source": [
    "## 🧱 1. Core Idea: What Are You Building?"
   ]
  },
  {
   "cell_type": "markdown",
   "id": "26a55a93-1c4f-4350-b4b6-0e551ee1be0f",
   "metadata": {},
   "source": [
    "You're building a **tool that helps you search through footage using the script's content** — not just by keyword, but by **context**, like:\n",
    "\n",
    "* **Who** is in the scene (characters)\n",
    "* **What** is happening (actions)\n",
    "* **Where** it's set (locations)\n",
    "* **How** it feels (mood or tone)\n",
    "* **When** it occurs (scene, day/night)\n",
    "\n",
    "This is like a **smart search keyboard**, powered by the script.\n"
   ]
  },
  {
   "cell_type": "raw",
   "id": "1f6e7eb4-5268-4e93-8b3a-a48aed1398a8",
   "metadata": {
    "jp-MarkdownHeadingCollapsed": true
   },
   "source": [
    "## 📦 2. What Will You Need?\n",
    "\n",
    "| Layer               | Tool/Tech                              | What It Does                                         |\n",
    "| ------------------- | -------------------------------------- | ---------------------------------------------------- |\n",
    "| 🧠 NLP Engine       | [spaCy](https://spacy.io/)             | Analyzes the script to extract people, actions, etc. |\n",
    "| 🗂 Script Parser    | Python                                 | Reads your script line-by-line and pulls data out    |\n",
    "| 🧰 Backend          | Python + Flask or Streamlit            | Powers the app and search logic                      |\n",
    "| 🎛 UI               | Streamlit (easy) or HTML/JS (advanced) | Displays the interactive keyboard/buttons            |\n",
    "| 🎥 Footage Metadata | JSON/CSV or manual mapping             | Connects scenes to actual clips or filenames         |"
   ]
  },
  {
   "cell_type": "markdown",
   "id": "787172d9-ff5f-4010-86f1-21a4d6be12b4",
   "metadata": {},
   "source": [
    "## 🛠 3. Step-by-Step Build Overview\n",
    "\n",
    "Here’s a full breakdown:\n"
   ]
  },
  {
   "cell_type": "markdown",
   "id": "37b803fa-b2ba-40b6-bf5b-38739b9008ba",
   "metadata": {},
   "source": [
    "### ✅ Step 1: Load & Parse Your Script\n",
    "\n",
    "Your script might look like this:\n",
    "\n",
    "```\n",
    "INT. KITCHEN - NIGHT\n",
    "\n",
    "Sarah enters with a knife in her hand.\n",
    "John looks up from the table, startled.\n",
    "```\n",
    "You parse it using spaCy:"
   ]
  },
  {
   "cell_type": "code",
   "execution_count": 2,
   "id": "9ab5a078-233e-48e1-9923-9151855c4bce",
   "metadata": {},
   "outputs": [],
   "source": [
    "nlp= spacy.load('en_core_web_sm')"
   ]
  },
  {
   "cell_type": "code",
   "execution_count": null,
   "id": "b3324f17-2dea-4608-ad2d-cb30a31d336e",
   "metadata": {},
   "outputs": [],
   "source": [
    "script_text = \"Alex had always dreamed of reaching the top of Eagle's Peak, a mountain so tall many said it can't be climbed without years of training. But Alex wasn't an expert. Just a person with a dream and a backpack full of hope. The first steps were easy. The path was clear. But soon the trail grew steeper. Rocks blocked the way. The wind howled. Doubt crept in.\"\n"
   ]
  },
  {
   "cell_type": "code",
   "execution_count": null,
   "id": "fc1998d5-a7ac-4871-9d08-4fa9a65befd7",
   "metadata": {},
   "outputs": [],
   "source": []
  },
  {
   "cell_type": "code",
   "execution_count": 3,
   "id": "1aa1aec9-9628-4c7f-a4d1-fd34eddc6471",
   "metadata": {},
   "outputs": [],
   "source": [
    "import spacy\n",
    "\n",
    "nlp = spacy.load(\"en_core_web_sm\")\n",
    "\n",
    "script = \"\"\"\n",
    "INT. KITCHEN - NIGHT\n",
    "\n",
    "Sarah enters with a knife in her hand.\n",
    "John looks up from the table, startled.\n",
    "\"\"\"\n",
    "\n",
    "doc = nlp(script)"
   ]
  },
  {
   "cell_type": "markdown",
   "id": "f91ae694-8926-497b-96fc-07f0f3402a04",
   "metadata": {},
   "source": [
    "### ✅ Step 2: Extract Keywords, Characters, and Actions"
   ]
  },
  {
   "cell_type": "code",
   "execution_count": 4,
   "id": "9a703002-3694-44ae-a1ce-b44246721197",
   "metadata": {},
   "outputs": [],
   "source": [
    "structured = []\n",
    "\n",
    "for sent in doc.sents:\n",
    "    structured.append({\n",
    "        \"sentence\": sent.text,\n",
    "        \"characters\": [ent.text for ent in sent.ents if ent.label_ == \"PERSON\"],\n",
    "        \"actions\": [token.lemma_ for token in sent if token.pos_ == \"VERB\"],\n",
    "        \"objects\": [token.lemma_ for token in sent if token.pos_ == \"NOUN\"]\n",
    "    })"
   ]
  },
  {
   "cell_type": "code",
   "execution_count": 5,
   "id": "f837077c-2c87-49cd-ad91-a354c30bf469",
   "metadata": {},
   "outputs": [
    {
     "data": {
      "text/plain": [
       "[{'sentence': '\\nINT.', 'characters': [], 'actions': [], 'objects': []},\n",
       " {'sentence': 'KITCHEN - NIGHT\\n\\nSarah enters with a knife in her hand.\\n',\n",
       "  'characters': ['Sarah'],\n",
       "  'actions': ['enter'],\n",
       "  'objects': ['knife', 'hand']},\n",
       " {'sentence': 'John looks up from the table, startled.\\n',\n",
       "  'characters': ['John'],\n",
       "  'actions': ['look', 'startle'],\n",
       "  'objects': ['table']}]"
      ]
     },
     "execution_count": 5,
     "metadata": {},
     "output_type": "execute_result"
    }
   ],
   "source": [
    "structured"
   ]
  },
  {
   "cell_type": "code",
   "execution_count": 6,
   "id": "57480b0d-25f3-4d75-a1bd-6502cffbc673",
   "metadata": {},
   "outputs": [],
   "source": [
    "# Collect unique tags\n",
    "all_characters = sorted(set(c for line in structured for c in line['characters']))\n",
    "all_actions = sorted(set(a for line in structured for a in line['actions']))\n",
    "all_objects = sorted(set(o for line in structured for o in line['objects']))\n"
   ]
  },
  {
   "cell_type": "code",
   "execution_count": 9,
   "id": "8e6603c0-2086-4496-a182-209ab5629cdd",
   "metadata": {},
   "outputs": [
    {
     "data": {
      "text/plain": [
       "['John', 'Sarah']"
      ]
     },
     "execution_count": 9,
     "metadata": {},
     "output_type": "execute_result"
    }
   ],
   "source": [
    "all_characters"
   ]
  },
  {
   "cell_type": "code",
   "execution_count": 10,
   "id": "63daa2ef-2118-4c41-ade3-2f6830d5153a",
   "metadata": {},
   "outputs": [
    {
     "data": {
      "text/plain": [
       "['enter', 'look', 'startle']"
      ]
     },
     "execution_count": 10,
     "metadata": {},
     "output_type": "execute_result"
    }
   ],
   "source": [
    "all_actions"
   ]
  },
  {
   "cell_type": "code",
   "execution_count": 11,
   "id": "e119c1f7-b27e-4397-b960-ffb6569c21ac",
   "metadata": {},
   "outputs": [
    {
     "data": {
      "text/plain": [
       "['hand', 'knife', 'table']"
      ]
     },
     "execution_count": 11,
     "metadata": {},
     "output_type": "execute_result"
    }
   ],
   "source": [
    "all_objects"
   ]
  },
  {
   "cell_type": "code",
   "execution_count": null,
   "id": "f67834cf-b032-44eb-8520-ddd1152e3d49",
   "metadata": {},
   "outputs": [],
   "source": []
  }
 ],
 "metadata": {
  "kernelspec": {
   "display_name": "Python 3 (ipykernel)",
   "language": "python",
   "name": "python3"
  },
  "language_info": {
   "codemirror_mode": {
    "name": "ipython",
    "version": 3
   },
   "file_extension": ".py",
   "mimetype": "text/x-python",
   "name": "python",
   "nbconvert_exporter": "python",
   "pygments_lexer": "ipython3",
   "version": "3.12.11"
  }
 },
 "nbformat": 4,
 "nbformat_minor": 5
}
